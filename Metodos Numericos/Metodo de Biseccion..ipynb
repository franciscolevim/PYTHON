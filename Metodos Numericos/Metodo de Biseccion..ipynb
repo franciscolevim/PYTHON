{
 "cells": [
  {
   "cell_type": "markdown",
   "metadata": {},
   "source": [
    "# Metodo de Biseccion\n",
    "\n",
    "\n",
    "Unas cuantas iteraciones del método de bisección aplicadas en un intervalo [a1,b1].\n",
    "\n",
    "El punto rojo es la raíz de la función.\n",
    "En matemáticas, el método de bisección es un algoritmo de búsqueda de raíces que trabaja dividiendo el intervalo a la mitad y seleccionando el subintervalo que tiene la raíz."
   ]
  },
  {
   "cell_type": "code",
   "execution_count": 23,
   "metadata": {
    "collapsed": true
   },
   "outputs": [
    {
     "name": "stdout",
     "output_type": "stream",
     "text": [
      "[ i, a, c, b, f(a), f(c), f(b), paso]\n",
      "1 1.000 1.500 2.000 -5.000 2.375 14.000 1.000 \n",
      "2 1.000 1.250 1.500 -5.000 -1.797 2.375 0.500 \n",
      "3 1.250 1.375 1.500 -1.797 0.162 2.375 0.250 \n",
      "4 1.250 1.312 1.375 -1.797 -0.848 0.162 0.125 \n",
      "5 1.312 1.344 1.375 -0.848 -0.351 0.162 0.062 \n",
      "6 1.344 1.359 1.375 -0.351 -0.096 0.162 0.031 \n",
      "7 1.359 1.367 1.375 -0.096 0.032 0.162 0.016 \n",
      "8 1.359 1.363 1.367 -0.096 -0.032 0.032 0.008 \n",
      "9 1.363 1.365 1.367 -0.032 0.000 0.032 0.004 \n",
      "10 1.363 1.364 1.365 -0.032 -0.016 0.000 0.002 \n",
      "11 1.364 1.365 1.365 -0.016 -0.008 0.000 0.001 \n",
      "raiz:  1.36474609375\n"
     ]
    }
   ],
   "source": [
    "# Algoritmo de Bisección\n",
    "# [a,b] se escogen de la gráfica de la función\n",
    "# error = tolera\n",
    "\n",
    "import numpy as np\n",
    "\n",
    "fx = lambda x: x**3 + 4*x**2 - 10\n",
    "\n",
    "# INGRESO\n",
    "a = 1\n",
    "b = 2\n",
    "tolera = 0.001\n",
    "\n",
    "# PROCEDIMIENTO\n",
    "tabla = []\n",
    "tramo = b-a\n",
    "\n",
    "fa = fx(a)\n",
    "fb = fx(b)\n",
    "i = 1\n",
    "while (tramo>tolera):\n",
    "    c = (a+b)/2\n",
    "    fc = fx(c)\n",
    "    tabla.append([i,a,c,b,fa,fc,fb,tramo])\n",
    "    i = i+1\n",
    "                 \n",
    "    cambia = np.sign(fa)*np.sign(fc)\n",
    "    if (cambia<0):\n",
    "        b = c\n",
    "        fb = fc\n",
    "    else:\n",
    "        a=c\n",
    "        fa = fc\n",
    "    tramo = b-a\n",
    "c = (a+b)/2\n",
    "fc = fx(c)\n",
    "tabla.append([i,a,c,b,fa,fc,fb,tramo])\n",
    "tabla = np.array(tabla)\n",
    "\n",
    "raiz = c\n",
    "\n",
    "# SALIDA\n",
    "np.set_printoptions(precision = 4)\n",
    "print('[ i, a, c, b, f(a), f(c), f(b), paso]')\n",
    "# print(tabla)\n",
    "\n",
    "# Tabla con formato\n",
    "n=len(tabla)\n",
    "for i in range(0,n,1):\n",
    "    unafila = tabla[i]\n",
    "    formato = '{:.0f}'+' '+(len(unafila)-1)*'{:.3f} '\n",
    "    unafila = formato.format(*unafila)\n",
    "    print(unafila)\n",
    "    \n",
    "print('raiz: ',raiz)"
   ]
  },
  {
   "cell_type": "code",
   "execution_count": 25,
   "metadata": {},
   "outputs": [
    {
     "data": {
      "image/png": "[encoded data removed]",
      "text/plain": [
       "<Figure size 432x288 with 1 Axes>"
      ]
     },
     "metadata": {
      "needs_background": "light"
     },
     "output_type": "display_data"
    }
   ],
   "source": [
    "# GRAFICA\n",
    "import matplotlib.pyplot as plt\n",
    "\n",
    "xi = tabla[:,2]\n",
    "yi = tabla[:,5]\n",
    "\n",
    "# ordena los puntos para la grafica\n",
    "orden = np.argsort(xi)\n",
    "xi = xi[orden]\n",
    "yi = yi[orden]\n",
    "\n",
    "plt.plot(xi,yi)\n",
    "plt.plot(xi,yi,'o')\n",
    "plt.axhline(0, color=\"black\")\n",
    "\n",
    "plt.xlabel('x')\n",
    "plt.ylabel('y')\n",
    "plt.title('Bisección en f(x)')\n",
    "plt.grid()\n",
    "plt.show()"
   ]
  },
  {
   "cell_type": "markdown",
   "metadata": {},
   "source": [
    "fuente: http://blog.espol.edu.ec/matg1013/2-1-1-biseccion-ejemplo01/"
   ]
  },
  {
   "cell_type": "code",
   "execution_count": null,
   "metadata": {},
   "outputs": [],
   "source": []
  }
 ],
 "metadata": {
  "kernelspec": {
   "display_name": "Python 3",
   "language": "python",
   "name": "python3"
  },
  "language_info": {
   "codemirror_mode": {
    "name": "ipython",
    "version": 3
   },
   "file_extension": ".py",
   "mimetype": "text/x-python",
   "name": "python",
   "nbconvert_exporter": "python",
   "pygments_lexer": "ipython3",
   "version": "3.7.3"
  }
 },
 "nbformat": 4,
 "nbformat_minor": 2
}
